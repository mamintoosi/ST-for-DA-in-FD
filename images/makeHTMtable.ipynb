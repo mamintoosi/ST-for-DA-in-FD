{
 "cells": [
  {
   "cell_type": "markdown",
   "metadata": {},
   "source": [
    "### Create HTML Table from images\n",
    "M.Amintoosi \n",
    "m.amintoosi@gmail.com"
   ]
  },
  {
   "cell_type": "code",
   "execution_count": 17,
   "metadata": {},
   "outputs": [],
   "source": [
    "import os\n",
    "import sys\n",
    "import numpy as np\n",
    "\n",
    "# Root directory of the project\n",
    "ROOT_DIR = os.path.abspath(\"./\")\n",
    "\n",
    "# Import Mask RCNN\n",
    "sys.path.append(ROOT_DIR)  # To find local version of the library\n",
    "\n",
    "# Directory to save logs and trained model\n",
    "IMAGE_DIR = \"day2night\"\n",
    "\n",
    "file_names = next(os.walk(IMAGE_DIR))[2]\n",
    "\n",
    "strTable = '<div align=\"center\" dir=\"rtl\">'\n",
    "strTable = strTable+'<table  align=\"center\" border=\"1\">\\n'\n",
    "strRW = \"<tr><td>تصـــــویر حاصل از انتقــــال سبـــک </td><td> تصــــــــویــــــــــــر استــــــــــــایـــــل </td><td>تصــــــــــویـــــر محــــتـــوای ورودی</td></tr>\\n\"\n",
    "strTable = strTable+strRW\n",
    "strTable = strTable+\"</table>\"\n",
    "# for res in matches: \n",
    "#     strRW = strRW+'<td><img src= \"inputs/'+res+ '.jpg \" width=\"300\"></td>'\n",
    "# strRW = strRW+\"</tr>\\n\"\n",
    "i = 1\n",
    "for aks in file_names:\n",
    "    strRW = '<img src= \"day2night/' + aks+'\" width=\"600\"><br>\\n'\n",
    "    strTable = strTable+strRW\n",
    "    i = i+1\n",
    "       \n",
    "strTable = strTable+'</div>'\n",
    "hs = open(\"day2night.html\", 'w')\n",
    "hs.write(strTable)\n",
    "hs.close() \n",
    "\n",
    "# hs = open(\"README.md\", 'w')\n",
    "# hs.write(strTable)\n",
    "# hs.close() \n",
    "# print(strTable)\n"
   ]
  },
  {
   "cell_type": "code",
   "execution_count": null,
   "metadata": {},
   "outputs": [],
   "source": []
  }
 ],
 "metadata": {
  "kernelspec": {
   "name": "python361064bittf1conda9a8f174dac03474c90e34ca7161caa62",
   "display_name": "Python 3.6.10 64-bit ('tf1': conda)"
  },
  "language_info": {
   "codemirror_mode": {
    "name": "ipython",
    "version": 3
   },
   "file_extension": ".py",
   "mimetype": "text/x-python",
   "name": "python",
   "nbconvert_exporter": "python",
   "pygments_lexer": "ipython3",
   "version": "3.6.10"
  },
  "metadata": {
   "interpreter": {
    "hash": "31d2cf8d87e05a12ad31dd0d4a882f00d5cdd732dacde02c9056fc8c7bf56e76"
   }
  }
 },
 "nbformat": 4,
 "nbformat_minor": 2
}