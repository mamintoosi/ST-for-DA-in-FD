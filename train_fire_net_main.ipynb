{
  "nbformat": 4,
  "nbformat_minor": 2,
  "metadata": {
    "colab": {
      "name": "train_fire_net_main_scale_01.ipynb",
      "provenance": [],
      "collapsed_sections": []
    },
    "kernelspec": {
      "name": "python3",
      "display_name": "Python 3"
    },
    "language_info": {
      "name": "python"
    },
    "accelerator": "GPU"
  },
  "cells": [
    {
      "cell_type": "markdown",
      "source": [
        "# انتقال سبک با شبکه‌ی مولد رقابتی برای افزایش داده‌های آموزشی شبکه‌های کانولوشنی در شناسایی شعله‌ی آتش\r\n",
        "\r\n",
        "M. Amintoosi, m.amintoosi@gmail.com"
      ],
      "metadata": {
        "id": "B4yxkb0QLPFm"
      }
    },
    {
      "cell_type": "markdown",
      "source": [
        "سرعت اجرا روی \n",
        "\n",
        "T4, 15 GB RAM\n",
        "\n",
        "تقریبا دو برابر \n",
        "\n",
        "Tesla K80 \n",
        "\n",
        "هست. مشخصات کارت گرافیک اختصاص داده شده را می‌توانید با دستور زیر ببینید:\n",
        "\n",
        "!nvidia-smi"
      ],
      "metadata": {
        "id": "vgXBdoI94WTD"
      }
    },
    {
      "cell_type": "code",
      "execution_count": 1,
      "source": [
        "!nvidia-smi"
      ],
      "outputs": [
        {
          "output_type": "stream",
          "name": "stdout",
          "text": [
            "Sun Aug 22 01:50:48 2021       \n",
            "+-----------------------------------------------------------------------------+\n",
            "| NVIDIA-SMI 470.57.02    Driver Version: 460.32.03    CUDA Version: 11.2     |\n",
            "|-------------------------------+----------------------+----------------------+\n",
            "| GPU  Name        Persistence-M| Bus-Id        Disp.A | Volatile Uncorr. ECC |\n",
            "| Fan  Temp  Perf  Pwr:Usage/Cap|         Memory-Usage | GPU-Util  Compute M. |\n",
            "|                               |                      |               MIG M. |\n",
            "|===============================+======================+======================|\n",
            "|   0  Tesla T4            Off  | 00000000:00:04.0 Off |                    0 |\n",
            "| N/A   33C    P8     9W /  70W |      0MiB / 15109MiB |      0%      Default |\n",
            "|                               |                      |                  N/A |\n",
            "+-------------------------------+----------------------+----------------------+\n",
            "                                                                               \n",
            "+-----------------------------------------------------------------------------+\n",
            "| Processes:                                                                  |\n",
            "|  GPU   GI   CI        PID   Type   Process name                  GPU Memory |\n",
            "|        ID   ID                                                   Usage      |\n",
            "|=============================================================================|\n",
            "|  No running processes found                                                 |\n",
            "+-----------------------------------------------------------------------------+\n"
          ]
        }
      ],
      "metadata": {
        "colab": {
          "base_uri": "https://localhost:8080/"
        },
        "id": "CsD-u1Kk6yKm",
        "outputId": "d1ba2e5d-14de-46db-e7e3-d600aadd6948"
      }
    },
    {
      "cell_type": "code",
      "execution_count": 2,
      "source": [
        "import os, time\r\n",
        "from google.colab import files\r\n",
        "if hasattr(time, 'tzset'):\r\n",
        "    os.environ['TZ'] = 'Asia/Tehran'\r\n",
        "    time.tzset()\r\n",
        "print(time.strftime('%X'))"
      ],
      "outputs": [
        {
          "output_type": "stream",
          "name": "stdout",
          "text": [
            "06:21:02\n"
          ]
        }
      ],
      "metadata": {
        "colab": {
          "base_uri": "https://localhost:8080/"
        },
        "id": "9E6nQrRQULpy",
        "outputId": "d4710198-d32c-4c46-bae5-0868356ebe59"
      }
    },
    {
      "cell_type": "code",
      "execution_count": 3,
      "source": [
        "!git clone https://github.com/mamintoosi-papers-codes/ImageAI.git"
      ],
      "outputs": [
        {
          "output_type": "stream",
          "name": "stdout",
          "text": [
            "Cloning into 'ImageAI'...\n",
            "remote: Enumerating objects: 2383, done.\u001b[K\n",
            "remote: Counting objects: 100% (220/220), done.\u001b[K\n",
            "remote: Compressing objects: 100% (153/153), done.\u001b[K\n",
            "remote: Total 2383 (delta 116), reused 131 (delta 63), pack-reused 2163\u001b[K\n",
            "Receiving objects: 100% (2383/2383), 60.85 MiB | 32.86 MiB/s, done.\n",
            "Resolving deltas: 100% (1203/1203), done.\n"
          ]
        }
      ],
      "metadata": {
        "colab": {
          "base_uri": "https://localhost:8080/"
        },
        "id": "_UtaKjGbDQw1",
        "outputId": "3b9c22fd-7761-40a0-dd8c-964be93746a7"
      }
    },
    {
      "cell_type": "code",
      "execution_count": 4,
      "source": [
        "%cd ImageAI\r\n",
        "!wget https://pjreddie.com/media/files/yolov3.weights"
      ],
      "outputs": [
        {
          "output_type": "stream",
          "name": "stdout",
          "text": [
            "/content/ImageAI\n",
            "--2021-08-22 06:21:08--  https://pjreddie.com/media/files/yolov3.weights\n",
            "Resolving pjreddie.com (pjreddie.com)... 128.208.4.108\n",
            "Connecting to pjreddie.com (pjreddie.com)|128.208.4.108|:443... connected.\n",
            "HTTP request sent, awaiting response... 200 OK\n",
            "Length: 248007048 (237M) [application/octet-stream]\n",
            "Saving to: ‘yolov3.weights’\n",
            "\n",
            "yolov3.weights      100%[===================>] 236.52M   108MB/s    in 2.2s    \n",
            "\n",
            "2021-08-22 06:21:11 (108 MB/s) - ‘yolov3.weights’ saved [248007048/248007048]\n",
            "\n"
          ]
        }
      ],
      "metadata": {
        "colab": {
          "base_uri": "https://localhost:8080/"
        },
        "id": "D2xnXw7rD0do",
        "outputId": "49d3ba81-0623-402a-fbea-d2423bbf462a"
      }
    },
    {
      "cell_type": "code",
      "execution_count": 5,
      "source": [
        "from utils.convert_yolo3_to_keras  import make_yolov3_model,WeightReader\r\n",
        "# define the model\r\n",
        "model = make_yolov3_model()\r\n",
        "# load the model weights\r\n",
        "weight_reader = WeightReader('yolov3.weights')\r\n",
        "# set the model weights into the model\r\n",
        "weight_reader.load_weights(model)\r\n",
        "# save the model to file\r\n",
        "model.save('pretrained-yolov3.h5')"
      ],
      "outputs": [
        {
          "output_type": "stream",
          "name": "stdout",
          "text": [
            "loading weights of convolution #0\n",
            "loading weights of convolution #1\n",
            "loading weights of convolution #2\n",
            "loading weights of convolution #3\n",
            "no convolution #4\n",
            "loading weights of convolution #5\n",
            "loading weights of convolution #6\n",
            "loading weights of convolution #7\n",
            "no convolution #8\n",
            "loading weights of convolution #9\n",
            "loading weights of convolution #10\n",
            "no convolution #11\n",
            "loading weights of convolution #12\n",
            "loading weights of convolution #13\n",
            "loading weights of convolution #14\n",
            "no convolution #15\n",
            "loading weights of convolution #16\n",
            "loading weights of convolution #17\n",
            "no convolution #18\n",
            "loading weights of convolution #19\n",
            "loading weights of convolution #20\n",
            "no convolution #21\n",
            "loading weights of convolution #22\n",
            "loading weights of convolution #23\n",
            "no convolution #24\n",
            "loading weights of convolution #25\n",
            "loading weights of convolution #26\n",
            "no convolution #27\n",
            "loading weights of convolution #28\n",
            "loading weights of convolution #29\n",
            "no convolution #30\n",
            "loading weights of convolution #31\n",
            "loading weights of convolution #32\n",
            "no convolution #33\n",
            "loading weights of convolution #34\n",
            "loading weights of convolution #35\n",
            "no convolution #36\n",
            "loading weights of convolution #37\n",
            "loading weights of convolution #38\n",
            "loading weights of convolution #39\n",
            "no convolution #40\n",
            "loading weights of convolution #41\n",
            "loading weights of convolution #42\n",
            "no convolution #43\n",
            "loading weights of convolution #44\n",
            "loading weights of convolution #45\n",
            "no convolution #46\n",
            "loading weights of convolution #47\n",
            "loading weights of convolution #48\n",
            "no convolution #49\n",
            "loading weights of convolution #50\n",
            "loading weights of convolution #51\n",
            "no convolution #52\n",
            "loading weights of convolution #53\n",
            "loading weights of convolution #54\n",
            "no convolution #55\n",
            "loading weights of convolution #56\n",
            "loading weights of convolution #57\n",
            "no convolution #58\n",
            "loading weights of convolution #59\n",
            "loading weights of convolution #60\n",
            "no convolution #61\n",
            "loading weights of convolution #62\n",
            "loading weights of convolution #63\n",
            "loading weights of convolution #64\n",
            "no convolution #65\n",
            "loading weights of convolution #66\n",
            "loading weights of convolution #67\n",
            "no convolution #68\n",
            "loading weights of convolution #69\n",
            "loading weights of convolution #70\n",
            "no convolution #71\n",
            "loading weights of convolution #72\n",
            "loading weights of convolution #73\n",
            "no convolution #74\n",
            "loading weights of convolution #75\n",
            "loading weights of convolution #76\n",
            "loading weights of convolution #77\n",
            "loading weights of convolution #78\n",
            "loading weights of convolution #79\n",
            "loading weights of convolution #80\n",
            "loading weights of convolution #81\n",
            "no convolution #82\n",
            "no convolution #83\n",
            "loading weights of convolution #84\n",
            "no convolution #85\n",
            "no convolution #86\n",
            "loading weights of convolution #87\n",
            "loading weights of convolution #88\n",
            "loading weights of convolution #89\n",
            "loading weights of convolution #90\n",
            "loading weights of convolution #91\n",
            "loading weights of convolution #92\n",
            "loading weights of convolution #93\n",
            "no convolution #94\n",
            "no convolution #95\n",
            "loading weights of convolution #96\n",
            "no convolution #97\n",
            "no convolution #98\n",
            "loading weights of convolution #99\n",
            "loading weights of convolution #100\n",
            "loading weights of convolution #101\n",
            "loading weights of convolution #102\n",
            "loading weights of convolution #103\n",
            "loading weights of convolution #104\n",
            "loading weights of convolution #105\n",
            "WARNING:tensorflow:Compiled the loaded model, but the compiled metrics have yet to be built. `model.compile_metrics` will be empty until you train or evaluate the model.\n"
          ]
        },
        {
          "output_type": "stream",
          "name": "stderr",
          "text": [
            "/usr/local/lib/python3.7/dist-packages/keras/utils/generic_utils.py:497: CustomMaskWarning: Custom mask layers require a config and must override get_config. When loading, the custom mask layer must be passed to the custom_objects argument.\n",
            "  category=CustomMaskWarning)\n"
          ]
        }
      ],
      "metadata": {
        "colab": {
          "base_uri": "https://localhost:8080/"
        },
        "id": "8dMA5tRoTIeu",
        "outputId": "41641bdc-4e11-4724-d24b-e545363e1c3a"
      }
    },
    {
      "cell_type": "code",
      "execution_count": 6,
      "source": [
        "!git clone https://github.com/mamintoosi/datasets.git"
      ],
      "outputs": [
        {
          "output_type": "stream",
          "name": "stdout",
          "text": [
            "Cloning into 'datasets'...\n",
            "remote: Enumerating objects: 1721, done.\u001b[K\n",
            "remote: Counting objects: 100% (1721/1721), done.\u001b[K\n",
            "remote: Compressing objects: 100% (1212/1212), done.\u001b[K\n",
            "remote: Total 1721 (delta 508), reused 1714 (delta 504), pack-reused 0\u001b[K\n",
            "Receiving objects: 100% (1721/1721), 23.71 MiB | 22.82 MiB/s, done.\n",
            "Resolving deltas: 100% (508/508), done.\n"
          ]
        }
      ],
      "metadata": {
        "colab": {
          "base_uri": "https://localhost:8080/"
        },
        "id": "c7xoHtErDQ5V",
        "outputId": "e750b553-63dc-49cd-ad34-b9f5487ec0d4"
      }
    },
    {
      "cell_type": "markdown",
      "source": [
        "## آموزش و اجرا بر روی نمونه‌های اصلی، بدون داده‌افزایی: مدل پایه\r\n",
        "\r\n",
        "Aug-None"
      ],
      "metadata": {
        "id": "D8MQrPGCafnx"
      }
    },
    {
      "cell_type": "code",
      "execution_count": 7,
      "source": [
        "# آموزش مدل بر روی تصاویر آموزشی\r\n",
        "ds_name = \"fire-dataset-outdoor\""
      ],
      "outputs": [],
      "metadata": {
        "id": "jjyQlKDShhma"
      }
    },
    {
      "cell_type": "code",
      "execution_count": 8,
      "source": [
        "%%time\r\n",
        "# آموزش بدون داده‌افزایی\r\n",
        "# آموزش مدل حدود ۴۰ دقیقه طول خواهد کشید. \r\n",
        "from imageai.Detection.Custom import DetectionModelTrainer\r\n",
        "aug = 'none' # Without any augmentation\r\n",
        "trainer = DetectionModelTrainer()\r\n",
        "trainer.setModelTypeAsYOLOv3()\r\n",
        "trainer.setDataDirectory(data_directory=\"datasets/\"+ds_name, augmentation = aug)\r\n",
        "trainer.setTrainConfig(object_names_array=[\"fire\"], batch_size=8, num_experiments=10,\\\r\n",
        "                       augmentation = aug,\\\r\n",
        "                       train_from_pretrained_model=\"pretrained-yolov3.h5\")\r\n",
        "trainer.trainModel()"
      ],
      "outputs": [
        {
          "output_type": "stream",
          "name": "stdout",
          "text": [
            "Generating anchor boxes for training images and annotation...\n",
            "Average IOU for 9 anchors: 0.78\n",
            "Anchor Boxes generated.\n",
            "Detection configuration saved in  datasets/fire-dataset-outdoor_aug-none/json/detection_config.json\n",
            "Evaluating over 60 samples taken from datasets/fire-dataset-outdoor/validation\n",
            "Training over 305 samples  given at datasets/fire-dataset-outdoor/train\n",
            "Training on: \t['fire']\n",
            "Training with Batch Size:  8\n",
            "Number of Training Samples:  305\n",
            "Number of Validation Samples:  60\n",
            "Number of Experiments:  10\n",
            "Training with transfer learning from pretrained Model\n",
            "WARNING:tensorflow:`period` argument is deprecated. Please use `save_freq` to specify the frequency in number of batches seen.\n",
            "WARNING:tensorflow:`epsilon` argument is deprecated and will be removed, use `min_delta` instead.\n"
          ]
        },
        {
          "output_type": "stream",
          "name": "stderr",
          "text": [
            "/usr/local/lib/python3.7/dist-packages/keras/optimizer_v2/optimizer_v2.py:356: UserWarning: The `lr` argument is deprecated, use `learning_rate` instead.\n",
            "  \"The `lr` argument is deprecated, use `learning_rate` instead.\")\n"
          ]
        },
        {
          "output_type": "stream",
          "name": "stdout",
          "text": [
            "WARNING:tensorflow:Model failed to serialize as JSON. Ignoring... Layer YoloLayer has arguments in `__init__` and therefore must override `get_config`.\n"
          ]
        },
        {
          "output_type": "stream",
          "name": "stderr",
          "text": [
            "/usr/local/lib/python3.7/dist-packages/keras/engine/training.py:1972: UserWarning: `Model.fit_generator` is deprecated and will be removed in a future version. Please use `Model.fit`, which supports generators.\n",
            "  warnings.warn('`Model.fit_generator` is deprecated and '\n",
            "/usr/local/lib/python3.7/dist-packages/tensorflow/python/data/ops/dataset_ops.py:4212: UserWarning: Even though the `tf.config.experimental_run_functions_eagerly` option is set, this option does not apply to tf.data functions. To force eager execution of tf.data functions, please use `tf.data.experimental.enable_debug_mode()`.\n",
            "  \"Even though the `tf.config.experimental_run_functions_eagerly` \"\n",
            "/usr/local/lib/python3.7/dist-packages/keras/utils/generic_utils.py:497: CustomMaskWarning: Custom mask layers require a config and must override get_config. When loading, the custom mask layer must be passed to the custom_objects argument.\n",
            "  category=CustomMaskWarning)\n"
          ]
        },
        {
          "output_type": "stream",
          "name": "stdout",
          "text": [
            "Epoch 1/10\n",
            "312/312 [==============================] - 262s 737ms/step - loss: 63.0912 - yolo_layer_loss: 6.2431 - yolo_layer_1_loss: 15.3495 - yolo_layer_2_loss: 30.0351 - val_loss: 42.9225 - val_yolo_layer_loss: 8.5369 - val_yolo_layer_1_loss: 8.6777 - val_yolo_layer_2_loss: 14.5507\n",
            "WARNING:tensorflow:Compiled the loaded model, but the compiled metrics have yet to be built. `model.compile_metrics` will be empty until you train or evaluate the model.\n",
            "Epoch 2/10\n",
            "312/312 [==============================] - 226s 724ms/step - loss: 31.6852 - yolo_layer_loss: 4.0784 - yolo_layer_1_loss: 6.7999 - yolo_layer_2_loss: 10.8187 - val_loss: 40.9970 - val_yolo_layer_loss: 10.5788 - val_yolo_layer_1_loss: 10.3208 - val_yolo_layer_2_loss: 11.4478\n",
            "WARNING:tensorflow:Compiled the loaded model, but the compiled metrics have yet to be built. `model.compile_metrics` will be empty until you train or evaluate the model.\n",
            "Epoch 3/10\n",
            "312/312 [==============================] - 220s 704ms/step - loss: 25.4514 - yolo_layer_loss: 3.1268 - yolo_layer_1_loss: 5.5522 - yolo_layer_2_loss: 9.3669 - val_loss: 32.2781 - val_yolo_layer_loss: 5.7865 - val_yolo_layer_1_loss: 7.3539 - val_yolo_layer_2_loss: 12.4733\n",
            "WARNING:tensorflow:Compiled the loaded model, but the compiled metrics have yet to be built. `model.compile_metrics` will be empty until you train or evaluate the model.\n",
            "Epoch 4/10\n",
            "312/312 [==============================] - 207s 663ms/step - loss: 21.9362 - yolo_layer_loss: 2.7791 - yolo_layer_1_loss: 4.3910 - yolo_layer_2_loss: 8.3462 - val_loss: 36.1218 - val_yolo_layer_loss: 11.7177 - val_yolo_layer_1_loss: 6.4845 - val_yolo_layer_2_loss: 11.6971\n",
            "WARNING:tensorflow:Compiled the loaded model, but the compiled metrics have yet to be built. `model.compile_metrics` will be empty until you train or evaluate the model.\n",
            "Epoch 5/10\n",
            "312/312 [==============================] - 225s 719ms/step - loss: 21.2563 - yolo_layer_loss: 3.2695 - yolo_layer_1_loss: 4.6196 - yolo_layer_2_loss: 7.2442 - val_loss: 29.7954 - val_yolo_layer_loss: 5.5819 - val_yolo_layer_1_loss: 6.5070 - val_yolo_layer_2_loss: 11.6813\n",
            "WARNING:tensorflow:Compiled the loaded model, but the compiled metrics have yet to be built. `model.compile_metrics` will be empty until you train or evaluate the model.\n",
            "Epoch 6/10\n",
            "312/312 [==============================] - 227s 727ms/step - loss: 20.6673 - yolo_layer_loss: 3.6989 - yolo_layer_1_loss: 4.5020 - yolo_layer_2_loss: 6.5132 - val_loss: 37.5431 - val_yolo_layer_loss: 14.3980 - val_yolo_layer_1_loss: 5.9093 - val_yolo_layer_2_loss: 11.3531\n",
            "WARNING:tensorflow:Compiled the loaded model, but the compiled metrics have yet to be built. `model.compile_metrics` will be empty until you train or evaluate the model.\n",
            "Epoch 7/10\n",
            "312/312 [==============================] - 233s 744ms/step - loss: 20.1061 - yolo_layer_loss: 4.0537 - yolo_layer_1_loss: 4.2870 - yolo_layer_2_loss: 5.9318 - val_loss: 27.3433 - val_yolo_layer_loss: 4.7031 - val_yolo_layer_1_loss: 6.4842 - val_yolo_layer_2_loss: 10.3718\n",
            "WARNING:tensorflow:Compiled the loaded model, but the compiled metrics have yet to be built. `model.compile_metrics` will be empty until you train or evaluate the model.\n",
            "Epoch 8/10\n",
            "312/312 [==============================] - 230s 738ms/step - loss: 19.0417 - yolo_layer_loss: 3.9441 - yolo_layer_1_loss: 4.0076 - yolo_layer_2_loss: 5.3481 - val_loss: 29.0689 - val_yolo_layer_loss: 5.7131 - val_yolo_layer_1_loss: 6.9843 - val_yolo_layer_2_loss: 10.6757\n",
            "WARNING:tensorflow:Compiled the loaded model, but the compiled metrics have yet to be built. `model.compile_metrics` will be empty until you train or evaluate the model.\n",
            "Epoch 9/10\n",
            "312/312 [==============================] - 205s 656ms/step - loss: 17.4898 - yolo_layer_loss: 2.9259 - yolo_layer_1_loss: 3.3640 - yolo_layer_2_loss: 5.5369 - val_loss: 28.0817 - val_yolo_layer_loss: 3.8982 - val_yolo_layer_1_loss: 6.1928 - val_yolo_layer_2_loss: 12.3624\n",
            "WARNING:tensorflow:Compiled the loaded model, but the compiled metrics have yet to be built. `model.compile_metrics` will be empty until you train or evaluate the model.\n",
            "Epoch 10/10\n",
            "312/312 [==============================] - 230s 738ms/step - loss: 18.3999 - yolo_layer_loss: 4.4080 - yolo_layer_1_loss: 3.5902 - yolo_layer_2_loss: 4.8091 - val_loss: 28.7546 - val_yolo_layer_loss: 4.8167 - val_yolo_layer_1_loss: 6.4953 - val_yolo_layer_2_loss: 11.8747\n",
            "CPU times: user 31min 13s, sys: 5min 47s, total: 37min 1s\n",
            "Wall time: 37min 57s\n"
          ]
        }
      ],
      "metadata": {
        "colab": {
          "base_uri": "https://localhost:8080/"
        },
        "id": "GEmV3aJmw6AA",
        "outputId": "5ab3006d-c55a-4f3b-eacf-35d5d0b8ac52"
      }
    },
    {
      "cell_type": "code",
      "execution_count": 9,
      "source": [
        "!ls ./datasets/fire-dataset-outdoor_aug-none/models"
      ],
      "outputs": [
        {
          "output_type": "stream",
          "name": "stdout",
          "text": [
            "detection_model-ex-001--loss-0063.091.h5\n",
            "detection_model-ex-002--loss-0031.685.h5\n",
            "detection_model-ex-003--loss-0025.451.h5\n",
            "detection_model-ex-004--loss-0021.936.h5\n",
            "detection_model-ex-005--loss-0021.256.h5\n",
            "detection_model-ex-006--loss-0020.667.h5\n",
            "detection_model-ex-007--loss-0020.106.h5\n",
            "detection_model-ex-008--loss-0019.042.h5\n",
            "detection_model-ex-009--loss-0017.490.h5\n"
          ]
        }
      ],
      "metadata": {
        "colab": {
          "base_uri": "https://localhost:8080/"
        },
        "id": "Y_ExuhCF5NNR",
        "outputId": "1b57b2c3-314a-4716-ac34-f53627aa5dd8"
      }
    },
    {
      "cell_type": "code",
      "execution_count": 37,
      "source": [
        "# !cp datasets/fire-dataset-outdoor_aug-none/models/detection_model-ex-009--loss-0017.490.h5 '/content/gdrive/My Drive/models/fire-scale/outdoor/none/'\r\n",
        "# !cp datasets/fire-dataset-outdoor_aug-none/json/detection_config.json '/content/gdrive/My Drive/models/fire-scale/outdoor/none/'"
      ],
      "outputs": [],
      "metadata": {
        "id": "_t8tlM7C5NYq"
      }
    },
    {
      "cell_type": "code",
      "execution_count": 10,
      "source": [
        "%%time\r\n",
        "# ارزیابی بهترین مدل بالا\r\n",
        "# ذکر شود model_path نام بهترین مدل بالا باید در \r\n",
        "ds_name = \"fire-dataset-outdoor\"\r\n",
        "from imageai.Detection.Custom import DetectionModelTrainer\r\n",
        "\r\n",
        "trainer = DetectionModelTrainer()\r\n",
        "trainer.setModelTypeAsYOLOv3()\r\n",
        "trainer.setDataDirectory(data_directory=\"./datasets/\"+ds_name)\r\n",
        "metrics = trainer.evaluateModel(model_path=\"./datasets/\"+ds_name+\"_aug-none/models/detection_model-ex-009--loss-0017.490.h5\",\\\r\n",
        "                                json_path=\"./datasets/\"+ds_name+\"_aug-none/json/detection_config.json\",\\\r\n",
        "                                iou_threshold=0.2,\\\r\n",
        "                                object_threshold=0.3, nms_threshold=0.3)\r\n",
        "# اگر روال ارزیابی بیشتر از یک دقیقه طول کشید، به این معنی است که مدل به خوبی آموزش ندیده است.\r\n",
        "# اجرا باید متوقف شده و دوباره مدل آموزش داده شود"
      ],
      "outputs": [
        {
          "output_type": "stream",
          "name": "stdout",
          "text": [
            "Starting Model evaluation....\n",
            "Evaluating over 60 samples taken from ./datasets/fire-dataset-outdoor/validation\n",
            "Training over 305 samples  given at ./datasets/fire-dataset-outdoor/train\n",
            "WARNING:tensorflow:No training configuration found in the save file, so the model was *not* compiled. Compile it manually.\n",
            "Model File:  ./datasets/fire-dataset-outdoor_aug-none/models/detection_model-ex-009--loss-0017.490.h5 \n",
            "\n",
            "Evaluation samples:  60\n",
            "Using IoU:  0.2\n",
            "Using Object Threshold:  0.3\n",
            "Using Non-Maximum Suppression:  0.3\n",
            "fire: 0.6243\n",
            "mAP: 0.6243\n",
            "===============================\n",
            "CPU times: user 7.93 s, sys: 190 ms, total: 8.12 s\n",
            "Wall time: 7.99 s\n"
          ]
        }
      ],
      "metadata": {
        "colab": {
          "base_uri": "https://localhost:8080/"
        },
        "id": "YVERgCGY5NSb",
        "outputId": "982cb34b-6f37-4d71-a028-e1765f51e370"
      }
    },
    {
      "cell_type": "code",
      "execution_count": 11,
      "source": [
        "# با دستورات زیر می‌توان مدل را روی تصاویر موجود در پوشه \r\n",
        "# path\r\n",
        "# اجرا کرد. \r\n",
        "#  نام مدل را باید اصلاح کنید.\r\n",
        "from PIL import Image\r\n",
        "import os, sys\r\n",
        "from imageai.Detection.Custom import CustomObjectDetection\r\n",
        "\r\n",
        "ds_name = \"fire-dataset-outdoor\"\r\n",
        "\r\n",
        "path = \"./datasets/\"+ds_name+\"/validation/images/\"\r\n",
        "dirs = os.listdir( path )\r\n",
        "# print(dirs)\r\n",
        "out_path = \"./results_\"+ds_name+\"_aug-none\"\r\n",
        "os.mkdir(out_path)\r\n",
        "\r\n",
        "detector = CustomObjectDetection()\r\n",
        "detector.setModelTypeAsYOLOv3()\r\n",
        "detector.setModelPath(\"./datasets/\"+ds_name+\"_aug-none/models/detection_model-ex-009--loss-0017.490.h5\")\r\n",
        "detector.setJsonPath(\"./datasets/\"+ds_name+\"_aug-none/json/detection_config.json\")\r\n",
        "detector.loadModel()\r\n",
        "\r\n",
        "for item in dirs:\r\n",
        "    if os.path.isfile(path+item):\r\n",
        "        in_im = path+item\r\n",
        "        out_im = out_path+\"/\"+item\r\n",
        "        detections = detector.detectObjectsFromImage(input_image=in_im, output_image_path=out_im)\r\n",
        "\r\n",
        "# بعد از اجرای کد بالا، تصاویر در پوشه\r\n",
        "# results_fire-dataset-outdoor_aug-none\r\n",
        "# قرار داده می‌شوند که می‌توان دانلود نمود\r\n",
        "# !zip -r -q results_fire-dataset-outdoor_aug-none.zip results_fire-dataset-outdoor_aug-none/\r\n",
        "# files.download('results_fire-dataset-outdoor_aug-none.zip')"
      ],
      "outputs": [
        {
          "output_type": "stream",
          "name": "stderr",
          "text": [
            "/usr/local/lib/python3.7/dist-packages/tensorflow/python/data/ops/dataset_ops.py:4212: UserWarning: Even though the `tf.config.experimental_run_functions_eagerly` option is set, this option does not apply to tf.data functions. To force eager execution of tf.data functions, please use `tf.data.experimental.enable_debug_mode()`.\n",
            "  \"Even though the `tf.config.experimental_run_functions_eagerly` \"\n",
            "/content/ImageAI/imageai/Detection/Custom/__init__.py:1257: RuntimeWarning: overflow encountered in exp\n",
            "  return 1. / (1. + np.exp(-x))\n"
          ]
        },
        {
          "output_type": "display_data",
          "data": {
            "text/plain": [
              "<IPython.core.display.Javascript object>"
            ],
            "application/javascript": "\n    async function download(id, filename, size) {\n      if (!google.colab.kernel.accessAllowed) {\n        return;\n      }\n      const div = document.createElement('div');\n      const label = document.createElement('label');\n      label.textContent = `Downloading \"${filename}\": `;\n      div.appendChild(label);\n      const progress = document.createElement('progress');\n      progress.max = size;\n      div.appendChild(progress);\n      document.body.appendChild(div);\n\n      const buffers = [];\n      let downloaded = 0;\n\n      const channel = await google.colab.kernel.comms.open(id);\n      // Send a message to notify the kernel that we're ready.\n      channel.send({})\n\n      for await (const message of channel.messages) {\n        // Send a message to notify the kernel that we're ready.\n        channel.send({})\n        if (message.buffers) {\n          for (const buffer of message.buffers) {\n            buffers.push(buffer);\n            downloaded += buffer.byteLength;\n            progress.value = downloaded;\n          }\n        }\n      }\n      const blob = new Blob(buffers, {type: 'application/binary'});\n      const a = document.createElement('a');\n      a.href = window.URL.createObjectURL(blob);\n      a.download = filename;\n      div.appendChild(a);\n      a.click();\n      div.remove();\n    }\n  "
          },
          "metadata": {}
        },
        {
          "output_type": "display_data",
          "data": {
            "text/plain": [
              "<IPython.core.display.Javascript object>"
            ],
            "application/javascript": "download(\"download_d595556b-0164-4696-9d9a-f14f5509f0ba\", \"results_fire-dataset-outdoor_aug-none.zip\", 912315)"
          },
          "metadata": {}
        }
      ],
      "metadata": {
        "id": "-S3dWXGDSU4s",
        "colab": {
          "base_uri": "https://localhost:8080/",
          "height": 105
        },
        "outputId": "4aeb1506-7bd6-407c-bc94-50069afd1ded"
      }
    },
    {
      "cell_type": "markdown",
      "source": [
        "## آموزش مدل بر روی داده های آموزشی به همراه داده‌افزایی از نوع تغییرمقیاس و برش\r\n",
        "\r\n",
        "Aug-Scale"
      ],
      "metadata": {
        "id": "BW4ZDCKf7os_"
      }
    },
    {
      "cell_type": "code",
      "execution_count": 12,
      "source": [
        "%%time\r\n",
        "# آموزش با داده‌افزایی\r\n",
        "# آموزش مدل حدود ۴۰ دقیقه طول خواهد کشید. \r\n",
        "\r\n",
        "from imageai.Detection.Custom import DetectionModelTrainer\r\n",
        "aug = 'scale' # Scale and Crop augmentation\r\n",
        "trainer = DetectionModelTrainer()\r\n",
        "trainer.setModelTypeAsYOLOv3()\r\n",
        "trainer.setDataDirectory(data_directory=\"datasets/\"+ds_name, augmentation = aug)\r\n",
        "trainer.setTrainConfig(object_names_array=[\"fire\"], batch_size=8, num_experiments=10,\\\r\n",
        "                       augmentation = aug,\\\r\n",
        "                       train_from_pretrained_model=\"pretrained-yolov3.h5\")\r\n",
        "trainer.trainModel()"
      ],
      "outputs": [
        {
          "output_type": "stream",
          "name": "stdout",
          "text": [
            "Generating anchor boxes for training images and annotation...\n",
            "Average IOU for 9 anchors: 0.78\n",
            "Anchor Boxes generated.\n",
            "Detection configuration saved in  datasets/fire-dataset-outdoor_aug-scale/json/detection_config.json\n",
            "Evaluating over 60 samples taken from datasets/fire-dataset-outdoor/validation\n",
            "Training over 305 samples  given at datasets/fire-dataset-outdoor/train\n",
            "Training on: \t['fire']\n",
            "Training with Batch Size:  8\n",
            "Number of Training Samples:  305\n",
            "Number of Validation Samples:  60\n",
            "Number of Experiments:  10\n",
            "Training with transfer learning from pretrained Model\n",
            "WARNING:tensorflow:`period` argument is deprecated. Please use `save_freq` to specify the frequency in number of batches seen.\n",
            "WARNING:tensorflow:`epsilon` argument is deprecated and will be removed, use `min_delta` instead.\n"
          ]
        },
        {
          "output_type": "stream",
          "name": "stderr",
          "text": [
            "/usr/local/lib/python3.7/dist-packages/keras/optimizer_v2/optimizer_v2.py:356: UserWarning: The `lr` argument is deprecated, use `learning_rate` instead.\n",
            "  \"The `lr` argument is deprecated, use `learning_rate` instead.\")\n"
          ]
        },
        {
          "output_type": "stream",
          "name": "stdout",
          "text": [
            "WARNING:tensorflow:Model failed to serialize as JSON. Ignoring... Layer YoloLayer has arguments in `__init__` and therefore must override `get_config`.\n"
          ]
        },
        {
          "output_type": "stream",
          "name": "stderr",
          "text": [
            "/usr/local/lib/python3.7/dist-packages/keras/engine/training.py:1972: UserWarning: `Model.fit_generator` is deprecated and will be removed in a future version. Please use `Model.fit`, which supports generators.\n",
            "  warnings.warn('`Model.fit_generator` is deprecated and '\n",
            "/usr/local/lib/python3.7/dist-packages/tensorflow/python/data/ops/dataset_ops.py:4212: UserWarning: Even though the `tf.config.experimental_run_functions_eagerly` option is set, this option does not apply to tf.data functions. To force eager execution of tf.data functions, please use `tf.data.experimental.enable_debug_mode()`.\n",
            "  \"Even though the `tf.config.experimental_run_functions_eagerly` \"\n",
            "/usr/local/lib/python3.7/dist-packages/keras/utils/generic_utils.py:497: CustomMaskWarning: Custom mask layers require a config and must override get_config. When loading, the custom mask layer must be passed to the custom_objects argument.\n",
            "  category=CustomMaskWarning)\n"
          ]
        },
        {
          "output_type": "stream",
          "name": "stdout",
          "text": [
            "Epoch 1/10\n",
            "312/312 [==============================] - 229s 733ms/step - loss: 59.5379 - yolo_layer_3_loss: 6.5460 - yolo_layer_4_loss: 14.1557 - yolo_layer_5_loss: 27.4053 - val_loss: 39.5812 - val_yolo_layer_3_loss: 6.3111 - val_yolo_layer_4_loss: 7.8842 - val_yolo_layer_5_loss: 14.6844\n",
            "WARNING:tensorflow:Compiled the loaded model, but the compiled metrics have yet to be built. `model.compile_metrics` will be empty until you train or evaluate the model.\n",
            "Epoch 2/10\n",
            "312/312 [==============================] - 221s 706ms/step - loss: 29.7527 - yolo_layer_3_loss: 2.7399 - yolo_layer_4_loss: 6.5342 - yolo_layer_5_loss: 11.3801 - val_loss: 30.3947 - val_yolo_layer_3_loss: 4.0383 - val_yolo_layer_4_loss: 7.1270 - val_yolo_layer_5_loss: 11.7854\n",
            "WARNING:tensorflow:Compiled the loaded model, but the compiled metrics have yet to be built. `model.compile_metrics` will be empty until you train or evaluate the model.\n",
            "Epoch 3/10\n",
            "312/312 [==============================] - 211s 675ms/step - loss: 25.4409 - yolo_layer_3_loss: 2.5001 - yolo_layer_4_loss: 5.5309 - yolo_layer_5_loss: 10.5235 - val_loss: 30.9850 - val_yolo_layer_3_loss: 4.5045 - val_yolo_layer_4_loss: 7.8669 - val_yolo_layer_5_loss: 12.0957\n",
            "WARNING:tensorflow:Compiled the loaded model, but the compiled metrics have yet to be built. `model.compile_metrics` will be empty until you train or evaluate the model.\n",
            "Epoch 4/10\n",
            "312/312 [==============================] - 230s 737ms/step - loss: 24.0438 - yolo_layer_3_loss: 3.1354 - yolo_layer_4_loss: 5.4225 - yolo_layer_5_loss: 9.2339 - val_loss: 26.4209 - val_yolo_layer_3_loss: 4.0306 - val_yolo_layer_4_loss: 5.7368 - val_yolo_layer_5_loss: 10.5838\n",
            "WARNING:tensorflow:Compiled the loaded model, but the compiled metrics have yet to be built. `model.compile_metrics` will be empty until you train or evaluate the model.\n",
            "Epoch 5/10\n",
            "312/312 [==============================] - 209s 670ms/step - loss: 21.3171 - yolo_layer_3_loss: 2.3061 - yolo_layer_4_loss: 4.5643 - yolo_layer_5_loss: 8.5021 - val_loss: 26.5031 - val_yolo_layer_3_loss: 3.9372 - val_yolo_layer_4_loss: 6.0726 - val_yolo_layer_5_loss: 10.6391\n",
            "WARNING:tensorflow:Compiled the loaded model, but the compiled metrics have yet to be built. `model.compile_metrics` will be empty until you train or evaluate the model.\n",
            "Epoch 6/10\n",
            "312/312 [==============================] - 199s 637ms/step - loss: 19.8169 - yolo_layer_3_loss: 2.0104 - yolo_layer_4_loss: 3.8947 - yolo_layer_5_loss: 8.1402 - val_loss: 96.1573 - val_yolo_layer_3_loss: 70.6193 - val_yolo_layer_4_loss: 7.7042 - val_yolo_layer_5_loss: 12.1258\n",
            "WARNING:tensorflow:Compiled the loaded model, but the compiled metrics have yet to be built. `model.compile_metrics` will be empty until you train or evaluate the model.\n",
            "Epoch 7/10\n",
            "312/312 [==============================] - 222s 710ms/step - loss: 20.4104 - yolo_layer_3_loss: 3.0976 - yolo_layer_4_loss: 4.1848 - yolo_layer_5_loss: 7.4890 - val_loss: 44.7924 - val_yolo_layer_3_loss: 22.2037 - val_yolo_layer_4_loss: 6.5803 - val_yolo_layer_5_loss: 10.4261\n",
            "Epoch 8/10\n",
            "312/312 [==============================] - 223s 715ms/step - loss: 19.8152 - yolo_layer_3_loss: 2.8817 - yolo_layer_4_loss: 4.2766 - yolo_layer_5_loss: 7.1307 - val_loss: 26.7705 - val_yolo_layer_3_loss: 4.5436 - val_yolo_layer_4_loss: 5.8755 - val_yolo_layer_5_loss: 10.8761\n",
            "WARNING:tensorflow:Compiled the loaded model, but the compiled metrics have yet to be built. `model.compile_metrics` will be empty until you train or evaluate the model.\n",
            "Epoch 9/10\n",
            "312/312 [==============================] - 247s 793ms/step - loss: 19.4319 - yolo_layer_3_loss: 4.2044 - yolo_layer_4_loss: 3.9758 - yolo_layer_5_loss: 5.7825 - val_loss: 24.7860 - val_yolo_layer_3_loss: 3.7079 - val_yolo_layer_4_loss: 5.2152 - val_yolo_layer_5_loss: 10.3999\n",
            "WARNING:tensorflow:Compiled the loaded model, but the compiled metrics have yet to be built. `model.compile_metrics` will be empty until you train or evaluate the model.\n",
            "Epoch 10/10\n",
            "312/312 [==============================] - 220s 705ms/step - loss: 16.3506 - yolo_layer_3_loss: 2.6340 - yolo_layer_4_loss: 2.9849 - yolo_layer_5_loss: 5.2748 - val_loss: 27.5689 - val_yolo_layer_3_loss: 6.8833 - val_yolo_layer_4_loss: 5.3464 - val_yolo_layer_5_loss: 9.8883\n",
            "WARNING:tensorflow:Compiled the loaded model, but the compiled metrics have yet to be built. `model.compile_metrics` will be empty until you train or evaluate the model.\n",
            "CPU times: user 31min 6s, sys: 5min 40s, total: 36min 46s\n",
            "Wall time: 37min 8s\n"
          ]
        }
      ],
      "metadata": {
        "colab": {
          "base_uri": "https://localhost:8080/"
        },
        "id": "6pk3JCyfGBD0",
        "outputId": "6e7f092a-2fe0-41e6-8575-5a74d513168b"
      }
    },
    {
      "cell_type": "code",
      "execution_count": 13,
      "source": [
        "!ls ./datasets/fire-dataset-outdoor_aug-scale/models"
      ],
      "outputs": [
        {
          "output_type": "stream",
          "name": "stdout",
          "text": [
            "detection_model-ex-001--loss-0059.538.h5\n",
            "detection_model-ex-002--loss-0029.753.h5\n",
            "detection_model-ex-003--loss-0025.441.h5\n",
            "detection_model-ex-004--loss-0024.044.h5\n",
            "detection_model-ex-005--loss-0021.317.h5\n",
            "detection_model-ex-006--loss-0019.817.h5\n",
            "detection_model-ex-008--loss-0019.815.h5\n",
            "detection_model-ex-009--loss-0019.432.h5\n",
            "detection_model-ex-010--loss-0016.351.h5\n"
          ]
        }
      ],
      "metadata": {
        "colab": {
          "base_uri": "https://localhost:8080/"
        },
        "id": "G2rO7zi2GBPO",
        "outputId": "5e76c574-19e3-4c03-93a9-a9f521f70745"
      }
    },
    {
      "cell_type": "code",
      "execution_count": 38,
      "source": [
        "# !cp datasets/fire-dataset-outdoor_aug-scale/models/detection_model-ex-010--loss-0016.351.h5 '/content/gdrive/My Drive/models/fire-scale/outdoor/scale/'\r\n",
        "# !cp datasets/fire-dataset-outdoor_aug-scale/json/detection_config.json '/content/gdrive/My Drive/models/fire-scale/outdoor/scale/'"
      ],
      "outputs": [],
      "metadata": {
        "id": "I7hG6S9ROqqE"
      }
    },
    {
      "cell_type": "code",
      "execution_count": 15,
      "source": [
        "%%time\r\n",
        "# ارزیابی بهترین مدل بالا\r\n",
        "# ذکر شود model_path نام بهترین مدل بالا باید در \r\n",
        "ds_name = \"fire-dataset-outdoor\"\r\n",
        "from imageai.Detection.Custom import DetectionModelTrainer\r\n",
        "\r\n",
        "trainer = DetectionModelTrainer()\r\n",
        "trainer.setModelTypeAsYOLOv3()\r\n",
        "trainer.setDataDirectory(data_directory=\"./datasets/\"+ds_name)\r\n",
        "metrics = trainer.evaluateModel(model_path=\"./datasets/\"+ds_name+\"_aug-scale/models/detection_model-ex-010--loss-0016.351.h5\",\\\r\n",
        "                                json_path=\"./datasets/\"+ds_name+\"_aug-scale/json/detection_config.json\",\\\r\n",
        "                                iou_threshold=0.2,\\\r\n",
        "                                object_threshold=0.3, nms_threshold=0.3)"
      ],
      "outputs": [
        {
          "output_type": "stream",
          "name": "stdout",
          "text": [
            "Starting Model evaluation....\n",
            "Evaluating over 60 samples taken from ./datasets/fire-dataset-outdoor/validation\n",
            "Training over 305 samples  given at ./datasets/fire-dataset-outdoor/train\n",
            "WARNING:tensorflow:No training configuration found in the save file, so the model was *not* compiled. Compile it manually.\n",
            "Model File:  ./datasets/fire-dataset-outdoor_aug-scale/models/detection_model-ex-010--loss-0016.351.h5 \n",
            "\n",
            "Evaluation samples:  60\n",
            "Using IoU:  0.2\n",
            "Using Object Threshold:  0.3\n",
            "Using Non-Maximum Suppression:  0.3\n",
            "fire: 0.6588\n",
            "mAP: 0.6588\n",
            "===============================\n",
            "CPU times: user 7.35 s, sys: 209 ms, total: 7.56 s\n",
            "Wall time: 7.41 s\n"
          ]
        }
      ],
      "metadata": {
        "colab": {
          "base_uri": "https://localhost:8080/"
        },
        "id": "NdtOVi51v9Ym",
        "outputId": "6427ff58-fe6b-450c-a8ff-51fdcccd3ea8"
      }
    },
    {
      "cell_type": "code",
      "execution_count": 17,
      "source": [
        "# با دستورات زیر می‌توان مدل را روی تصاویر موجود در پوشه \r\n",
        "# path\r\n",
        "# اجرا کرد. \r\n",
        "#  نام مدل را باید اصلاح کنید.\r\n",
        "from PIL import Image\r\n",
        "import os, sys\r\n",
        "from imageai.Detection.Custom import CustomObjectDetection\r\n",
        "\r\n",
        "ds_name = \"fire-dataset-outdoor\"\r\n",
        "\r\n",
        "path = \"./datasets/\"+ds_name+\"/validation/images/\"\r\n",
        "dirs = os.listdir( path )\r\n",
        "# print(dirs)\r\n",
        "out_path = \"./results_\"+ds_name+'_aug-scale'\r\n",
        "os.mkdir(out_path)\r\n",
        "\r\n",
        "detector = CustomObjectDetection()\r\n",
        "detector.setModelTypeAsYOLOv3()\r\n",
        "detector.setModelPath(\"./datasets/\"+ds_name+\"_aug-scale/models/detection_model-ex-010--loss-0016.351.h5\")\r\n",
        "detector.setJsonPath(\"./datasets/\"+ds_name+\"_aug-scale/json/detection_config.json\")\r\n",
        "detector.loadModel()\r\n",
        "\r\n",
        "for item in dirs:\r\n",
        "    if os.path.isfile(path+item):\r\n",
        "        in_im = path+item\r\n",
        "        out_im = out_path+\"/\"+item\r\n",
        "        detections = detector.detectObjectsFromImage(input_image=in_im, output_image_path=out_im)\r\n",
        "\r\n",
        "# بعد از اجرای کد بالا، تصاویر در پوشه\r\n",
        "# results_fire-dataset-outdoor_aug-scale\r\n",
        "# قرار داده می‌شوند که می‌توان دانلود نمود\r\n",
        "# !zip -r -q results_fire-dataset-outdoor_aug-scale.zip results_fire-dataset-outdoor_aug-scale/\r\n",
        "# files.download('results_fire-dataset-outdoor_aug-scale.zip')"
      ],
      "outputs": [
        {
          "output_type": "stream",
          "name": "stderr",
          "text": [
            "/usr/local/lib/python3.7/dist-packages/tensorflow/python/data/ops/dataset_ops.py:4212: UserWarning: Even though the `tf.config.experimental_run_functions_eagerly` option is set, this option does not apply to tf.data functions. To force eager execution of tf.data functions, please use `tf.data.experimental.enable_debug_mode()`.\n",
            "  \"Even though the `tf.config.experimental_run_functions_eagerly` \"\n",
            "/content/ImageAI/imageai/Detection/Custom/__init__.py:1257: RuntimeWarning: overflow encountered in exp\n",
            "  return 1. / (1. + np.exp(-x))\n"
          ]
        },
        {
          "output_type": "display_data",
          "data": {
            "text/plain": [
              "<IPython.core.display.Javascript object>"
            ],
            "application/javascript": "\n    async function download(id, filename, size) {\n      if (!google.colab.kernel.accessAllowed) {\n        return;\n      }\n      const div = document.createElement('div');\n      const label = document.createElement('label');\n      label.textContent = `Downloading \"${filename}\": `;\n      div.appendChild(label);\n      const progress = document.createElement('progress');\n      progress.max = size;\n      div.appendChild(progress);\n      document.body.appendChild(div);\n\n      const buffers = [];\n      let downloaded = 0;\n\n      const channel = await google.colab.kernel.comms.open(id);\n      // Send a message to notify the kernel that we're ready.\n      channel.send({})\n\n      for await (const message of channel.messages) {\n        // Send a message to notify the kernel that we're ready.\n        channel.send({})\n        if (message.buffers) {\n          for (const buffer of message.buffers) {\n            buffers.push(buffer);\n            downloaded += buffer.byteLength;\n            progress.value = downloaded;\n          }\n        }\n      }\n      const blob = new Blob(buffers, {type: 'application/binary'});\n      const a = document.createElement('a');\n      a.href = window.URL.createObjectURL(blob);\n      a.download = filename;\n      div.appendChild(a);\n      a.click();\n      div.remove();\n    }\n  "
          },
          "metadata": {}
        },
        {
          "output_type": "display_data",
          "data": {
            "text/plain": [
              "<IPython.core.display.Javascript object>"
            ],
            "application/javascript": "download(\"download_2b6d505c-fe4c-4828-83c8-ed360dd2d7ce\", \"results_fire-dataset-outdoor_aug-scale.zip\", 950087)"
          },
          "metadata": {}
        }
      ],
      "metadata": {
        "colab": {
          "base_uri": "https://localhost:8080/",
          "height": 105
        },
        "id": "gwlnakQ9Ihc6",
        "outputId": "a767f36c-d156-48e8-fe3a-d6c212ed8f13"
      }
    },
    {
      "cell_type": "markdown",
      "source": [
        "# D2N آموزش و اجرا بر روی نمونه‌های اضافه شده با انتقال سبک عصبی، مدل \r\n",
        "## آموزش مدل بر روی داده های آموزشی و روز به شب شده بدون داده‌افزایی‌های مرسوم\r\n",
        "\r\n",
        "Aug-D2N"
      ],
      "metadata": {
        "id": "QN4lEmbqaIdD"
      }
    },
    {
      "cell_type": "code",
      "execution_count": 18,
      "source": [
        "# آموزش مدل بر روی تصاویر آموزشی + تصاویر روز به شب شده با انتقال سبک\r\n",
        "ds_name = \"fire-dataset-outdoor-d2n\"\r\n",
        "ds_name"
      ],
      "outputs": [
        {
          "output_type": "execute_result",
          "data": {
            "text/plain": [
              "'fire-dataset-outdoor-d2n'"
            ],
            "application/vnd.google.colaboratory.intrinsic+json": {
              "type": "string"
            }
          },
          "metadata": {},
          "execution_count": 18
        }
      ],
      "metadata": {
        "colab": {
          "base_uri": "https://localhost:8080/",
          "height": 35
        },
        "id": "MuBN0ownBPPC",
        "outputId": "33261695-73aa-4764-e3ac-d7d12be9508d"
      }
    },
    {
      "cell_type": "code",
      "execution_count": 19,
      "source": [
        "%%time\r\n",
        "# آموزش مدل حدود ۴۰ دقیقه طول خواهد کشید. \r\n",
        "from imageai.Detection.Custom import DetectionModelTrainer\r\n",
        "aug = 'none' # Withot regular augmentation\r\n",
        "trainer = DetectionModelTrainer()\r\n",
        "trainer.setModelTypeAsYOLOv3()\r\n",
        "trainer.setDataDirectory(data_directory=\"datasets/\"+ds_name, augmentation = aug)\r\n",
        "trainer.setTrainConfig(object_names_array=[\"fire\"], batch_size=8, num_experiments=10,\\\r\n",
        "                       augmentation = aug,\\\r\n",
        "                       train_from_pretrained_model=\"pretrained-yolov3.h5\")\r\n",
        "trainer.trainModel()"
      ],
      "outputs": [
        {
          "output_type": "stream",
          "name": "stdout",
          "text": [
            "Generating anchor boxes for training images and annotation...\n",
            "Average IOU for 9 anchors: 0.79\n",
            "Anchor Boxes generated.\n",
            "Detection configuration saved in  datasets/fire-dataset-outdoor-d2n_aug-none/json/detection_config.json\n",
            "Evaluating over 60 samples taken from datasets/fire-dataset-outdoor-d2n/validation\n",
            "Training over 390 samples  given at datasets/fire-dataset-outdoor-d2n/train\n",
            "Training on: \t['fire']\n",
            "Training with Batch Size:  8\n",
            "Number of Training Samples:  390\n",
            "Number of Validation Samples:  60\n",
            "Number of Experiments:  10\n",
            "Training with transfer learning from pretrained Model\n",
            "WARNING:tensorflow:`period` argument is deprecated. Please use `save_freq` to specify the frequency in number of batches seen.\n",
            "WARNING:tensorflow:`epsilon` argument is deprecated and will be removed, use `min_delta` instead.\n"
          ]
        },
        {
          "output_type": "stream",
          "name": "stderr",
          "text": [
            "/usr/local/lib/python3.7/dist-packages/keras/optimizer_v2/optimizer_v2.py:356: UserWarning: The `lr` argument is deprecated, use `learning_rate` instead.\n",
            "  \"The `lr` argument is deprecated, use `learning_rate` instead.\")\n"
          ]
        },
        {
          "output_type": "stream",
          "name": "stdout",
          "text": [
            "WARNING:tensorflow:Model failed to serialize as JSON. Ignoring... Layer YoloLayer has arguments in `__init__` and therefore must override `get_config`.\n"
          ]
        },
        {
          "output_type": "stream",
          "name": "stderr",
          "text": [
            "/usr/local/lib/python3.7/dist-packages/keras/engine/training.py:1972: UserWarning: `Model.fit_generator` is deprecated and will be removed in a future version. Please use `Model.fit`, which supports generators.\n",
            "  warnings.warn('`Model.fit_generator` is deprecated and '\n",
            "/usr/local/lib/python3.7/dist-packages/tensorflow/python/data/ops/dataset_ops.py:4212: UserWarning: Even though the `tf.config.experimental_run_functions_eagerly` option is set, this option does not apply to tf.data functions. To force eager execution of tf.data functions, please use `tf.data.experimental.enable_debug_mode()`.\n",
            "  \"Even though the `tf.config.experimental_run_functions_eagerly` \"\n",
            "/usr/local/lib/python3.7/dist-packages/keras/utils/generic_utils.py:497: CustomMaskWarning: Custom mask layers require a config and must override get_config. When loading, the custom mask layer must be passed to the custom_objects argument.\n",
            "  category=CustomMaskWarning)\n"
          ]
        },
        {
          "output_type": "stream",
          "name": "stdout",
          "text": [
            "Epoch 1/10\n",
            "392/392 [==============================] - 286s 728ms/step - loss: 63.4578 - yolo_layer_6_loss: 10.6988 - yolo_layer_7_loss: 13.9502 - yolo_layer_8_loss: 27.3671 - val_loss: 41.1207 - val_yolo_layer_6_loss: 9.4121 - val_yolo_layer_7_loss: 9.6798 - val_yolo_layer_8_loss: 10.9482\n",
            "WARNING:tensorflow:Compiled the loaded model, but the compiled metrics have yet to be built. `model.compile_metrics` will be empty until you train or evaluate the model.\n",
            "Epoch 2/10\n",
            "392/392 [==============================] - 285s 726ms/step - loss: 31.7296 - yolo_layer_6_loss: 5.2088 - yolo_layer_7_loss: 6.8743 - yolo_layer_8_loss: 8.9474 - val_loss: 33.8788 - val_yolo_layer_6_loss: 7.0489 - val_yolo_layer_7_loss: 6.9796 - val_yolo_layer_8_loss: 9.4760\n",
            "WARNING:tensorflow:Compiled the loaded model, but the compiled metrics have yet to be built. `model.compile_metrics` will be empty until you train or evaluate the model.\n",
            "Epoch 3/10\n",
            "392/392 [==============================] - 284s 723ms/step - loss: 27.7431 - yolo_layer_6_loss: 4.0934 - yolo_layer_7_loss: 6.0286 - yolo_layer_8_loss: 7.6381 - val_loss: 30.2826 - val_yolo_layer_6_loss: 4.5707 - val_yolo_layer_7_loss: 6.0435 - val_yolo_layer_8_loss: 10.0348\n",
            "WARNING:tensorflow:Compiled the loaded model, but the compiled metrics have yet to be built. `model.compile_metrics` will be empty until you train or evaluate the model.\n",
            "Epoch 4/10\n",
            "392/392 [==============================] - 282s 719ms/step - loss: 25.2071 - yolo_layer_6_loss: 3.6965 - yolo_layer_7_loss: 5.4131 - yolo_layer_8_loss: 6.7195 - val_loss: 32.9365 - val_yolo_layer_6_loss: 7.3673 - val_yolo_layer_7_loss: 6.8057 - val_yolo_layer_8_loss: 9.6910\n",
            "WARNING:tensorflow:Compiled the loaded model, but the compiled metrics have yet to be built. `model.compile_metrics` will be empty until you train or evaluate the model.\n",
            "Epoch 5/10\n",
            "392/392 [==============================] - 271s 691ms/step - loss: 22.9166 - yolo_layer_6_loss: 3.2047 - yolo_layer_7_loss: 4.8872 - yolo_layer_8_loss: 5.9917 - val_loss: 30.9246 - val_yolo_layer_6_loss: 6.5979 - val_yolo_layer_7_loss: 6.2968 - val_yolo_layer_8_loss: 9.3806\n",
            "WARNING:tensorflow:Compiled the loaded model, but the compiled metrics have yet to be built. `model.compile_metrics` will be empty until you train or evaluate the model.\n",
            "Epoch 6/10\n",
            "392/392 [==============================] - 265s 675ms/step - loss: 21.3702 - yolo_layer_6_loss: 2.8339 - yolo_layer_7_loss: 4.3454 - yolo_layer_8_loss: 5.7131 - val_loss: 30.7484 - val_yolo_layer_6_loss: 7.0387 - val_yolo_layer_7_loss: 6.2094 - val_yolo_layer_8_loss: 9.2128\n",
            "WARNING:tensorflow:Compiled the loaded model, but the compiled metrics have yet to be built. `model.compile_metrics` will be empty until you train or evaluate the model.\n",
            "Epoch 7/10\n",
            "392/392 [==============================] - 277s 706ms/step - loss: 20.1815 - yolo_layer_6_loss: 2.8556 - yolo_layer_7_loss: 4.2595 - yolo_layer_8_loss: 4.9122 - val_loss: 29.4872 - val_yolo_layer_6_loss: 5.1102 - val_yolo_layer_7_loss: 6.3730 - val_yolo_layer_8_loss: 9.9695\n",
            "WARNING:tensorflow:Compiled the loaded model, but the compiled metrics have yet to be built. `model.compile_metrics` will be empty until you train or evaluate the model.\n",
            "Epoch 8/10\n",
            "392/392 [==============================] - 282s 718ms/step - loss: 19.5610 - yolo_layer_6_loss: 2.7102 - yolo_layer_7_loss: 4.2717 - yolo_layer_8_loss: 4.6698 - val_loss: 30.4820 - val_yolo_layer_6_loss: 6.0149 - val_yolo_layer_7_loss: 6.6260 - val_yolo_layer_8_loss: 10.0704\n",
            "WARNING:tensorflow:Compiled the loaded model, but the compiled metrics have yet to be built. `model.compile_metrics` will be empty until you train or evaluate the model.\n",
            "Epoch 9/10\n",
            "392/392 [==============================] - 271s 692ms/step - loss: 18.5717 - yolo_layer_6_loss: 2.4948 - yolo_layer_7_loss: 3.9294 - yolo_layer_8_loss: 4.4914 - val_loss: 29.0730 - val_yolo_layer_6_loss: 6.3047 - val_yolo_layer_7_loss: 5.9456 - val_yolo_layer_8_loss: 9.2845\n",
            "WARNING:tensorflow:Compiled the loaded model, but the compiled metrics have yet to be built. `model.compile_metrics` will be empty until you train or evaluate the model.\n",
            "Epoch 10/10\n",
            "392/392 [==============================] - 281s 716ms/step - loss: 18.0379 - yolo_layer_6_loss: 2.6252 - yolo_layer_7_loss: 3.7530 - yolo_layer_8_loss: 4.2459 - val_loss: 30.1402 - val_yolo_layer_6_loss: 6.5266 - val_yolo_layer_7_loss: 6.3273 - val_yolo_layer_8_loss: 10.0176\n",
            "WARNING:tensorflow:Compiled the loaded model, but the compiled metrics have yet to be built. `model.compile_metrics` will be empty until you train or evaluate the model.\n",
            "CPU times: user 38min 42s, sys: 7min 23s, total: 46min 5s\n",
            "Wall time: 48min 3s\n"
          ]
        }
      ],
      "metadata": {
        "colab": {
          "base_uri": "https://localhost:8080/"
        },
        "id": "tSB_0h5wBSk5",
        "outputId": "1b7c685e-7b07-4033-9c26-b0b51123588f"
      }
    },
    {
      "cell_type": "code",
      "execution_count": 21,
      "source": [
        "!ls ./datasets/fire-dataset-outdoor-d2n_aug-none/models/"
      ],
      "outputs": [
        {
          "output_type": "stream",
          "name": "stdout",
          "text": [
            "detection_model-ex-001--loss-0063.458.h5\n",
            "detection_model-ex-002--loss-0031.730.h5\n",
            "detection_model-ex-003--loss-0027.743.h5\n",
            "detection_model-ex-004--loss-0025.207.h5\n",
            "detection_model-ex-005--loss-0022.917.h5\n",
            "detection_model-ex-006--loss-0021.370.h5\n",
            "detection_model-ex-007--loss-0020.181.h5\n",
            "detection_model-ex-008--loss-0019.561.h5\n",
            "detection_model-ex-009--loss-0018.572.h5\n",
            "detection_model-ex-010--loss-0018.038.h5\n"
          ]
        }
      ],
      "metadata": {
        "colab": {
          "base_uri": "https://localhost:8080/"
        },
        "id": "7pdN1-QjBzXJ",
        "outputId": "ac9c94d5-2d29-4fb2-8d02-cbdec8718a0c"
      }
    },
    {
      "cell_type": "code",
      "execution_count": 40,
      "source": [
        "# !cp datasets/fire-dataset-outdoor-d2n_aug-none/models/detection_model-ex-010--loss-0018.038.h5 '/content/gdrive/My Drive/models/fire-scale/outdoor-d2n/none/'\r\n",
        "# !cp datasets/fire-dataset-outdoor-d2n_aug-none/json/detection_config.json '/content/gdrive/My Drive/models/fire-scale/outdoor-d2n/none/'"
      ],
      "outputs": [],
      "metadata": {
        "id": "pxBnCUC2N6TH"
      }
    },
    {
      "cell_type": "code",
      "execution_count": 24,
      "source": [
        "%%time\r\n",
        "# ارزیابی بهترین مدل بالا\r\n",
        "# ذکر شود model_path نام بهترین مدل بالا باید در \r\n",
        "\r\n",
        "from imageai.Detection.Custom import DetectionModelTrainer\r\n",
        "\r\n",
        "trainer = DetectionModelTrainer()\r\n",
        "trainer.setModelTypeAsYOLOv3()\r\n",
        "trainer.setDataDirectory(data_directory=\"./datasets/\"+ds_name)\r\n",
        "metrics = trainer.evaluateModel(model_path=\"./datasets/\"+ds_name+\"_aug-none/models/detection_model-ex-010--loss-0018.038.h5\",\\\r\n",
        "                                json_path=\"./datasets/\"+ds_name+\"_aug-none/json/detection_config.json\",\\\r\n",
        "                                iou_threshold=0.2,\\\r\n",
        "                                object_threshold=0.3, nms_threshold=0.3)"
      ],
      "outputs": [
        {
          "output_type": "stream",
          "name": "stdout",
          "text": [
            "Starting Model evaluation....\n",
            "Evaluating over 60 samples taken from ./datasets/fire-dataset-outdoor-d2n/validation\n",
            "Training over 390 samples  given at ./datasets/fire-dataset-outdoor-d2n/train\n",
            "WARNING:tensorflow:No training configuration found in the save file, so the model was *not* compiled. Compile it manually.\n",
            "Model File:  ./datasets/fire-dataset-outdoor-d2n_aug-none/models/detection_model-ex-010--loss-0018.038.h5 \n",
            "\n",
            "Evaluation samples:  60\n",
            "Using IoU:  0.2\n",
            "Using Object Threshold:  0.3\n",
            "Using Non-Maximum Suppression:  0.3\n",
            "fire: 0.7063\n",
            "mAP: 0.7063\n",
            "===============================\n",
            "CPU times: user 7.51 s, sys: 210 ms, total: 7.72 s\n",
            "Wall time: 7.64 s\n"
          ]
        }
      ],
      "metadata": {
        "colab": {
          "base_uri": "https://localhost:8080/"
        },
        "id": "ExGmVcmGWxDs",
        "outputId": "7bc099b8-4967-4589-fc41-ca4e5bc49b05"
      }
    },
    {
      "cell_type": "code",
      "execution_count": 29,
      "source": [
        "# با دستورات زیر می‌توان مدل را روی تصاویر موجود در پوشه \r\n",
        "# path\r\n",
        "# اجرا کرد. \r\n",
        "# نام مدل را باید اصلاح کنید.\r\n",
        "from PIL import Image\r\n",
        "import os, sys\r\n",
        "from imageai.Detection.Custom import CustomObjectDetection\r\n",
        "\r\n",
        "ds_name = \"fire-dataset-outdoor-d2n\"\r\n",
        "\r\n",
        "path = \"./datasets/\"+ds_name+\"/validation/images/\"\r\n",
        "dirs = os.listdir( path )\r\n",
        "# print(dirs)\r\n",
        "out_path = \"./results_\"+ds_name+\"_aug-none\"\r\n",
        "os.mkdir(out_path)\r\n",
        "\r\n",
        "detector = CustomObjectDetection()\r\n",
        "detector.setModelTypeAsYOLOv3()\r\n",
        "detector.setModelPath(\"./datasets/\"+ds_name+\"_aug-none/models/detection_model-ex-010--loss-0018.038.h5\")\r\n",
        "detector.setJsonPath(\"./datasets/\"+ds_name+\"_aug-none/json/detection_config.json\")\r\n",
        "detector.loadModel()\r\n",
        "\r\n",
        "for item in dirs:\r\n",
        "    if os.path.isfile(path+item):\r\n",
        "        in_im = path+item\r\n",
        "        out_im = out_path+\"/\"+item\r\n",
        "        detections = detector.detectObjectsFromImage(input_image=in_im, output_image_path=out_im)\r\n",
        "\r\n",
        "# بعد از اجرای کد بالا، تصاویر در پوشه\r\n",
        "# results_fire-dataset-outdoor-d2n_aug-none\r\n",
        "# قرار داده می‌شوند که می‌توان دانلود نمود\r\n",
        "# !zip -r -q results_fire-dataset-outdoor-d2n_aug-none.zip results_fire-dataset-outdoor-d2n_aug-none/\r\n",
        "# files.download('results_fire-dataset-outdoor-d2n_aug-none.zip')"
      ],
      "outputs": [
        {
          "output_type": "stream",
          "name": "stderr",
          "text": [
            "/usr/local/lib/python3.7/dist-packages/tensorflow/python/data/ops/dataset_ops.py:4212: UserWarning: Even though the `tf.config.experimental_run_functions_eagerly` option is set, this option does not apply to tf.data functions. To force eager execution of tf.data functions, please use `tf.data.experimental.enable_debug_mode()`.\n",
            "  \"Even though the `tf.config.experimental_run_functions_eagerly` \"\n"
          ]
        },
        {
          "output_type": "display_data",
          "data": {
            "text/plain": [
              "<IPython.core.display.Javascript object>"
            ],
            "application/javascript": "\n    async function download(id, filename, size) {\n      if (!google.colab.kernel.accessAllowed) {\n        return;\n      }\n      const div = document.createElement('div');\n      const label = document.createElement('label');\n      label.textContent = `Downloading \"${filename}\": `;\n      div.appendChild(label);\n      const progress = document.createElement('progress');\n      progress.max = size;\n      div.appendChild(progress);\n      document.body.appendChild(div);\n\n      const buffers = [];\n      let downloaded = 0;\n\n      const channel = await google.colab.kernel.comms.open(id);\n      // Send a message to notify the kernel that we're ready.\n      channel.send({})\n\n      for await (const message of channel.messages) {\n        // Send a message to notify the kernel that we're ready.\n        channel.send({})\n        if (message.buffers) {\n          for (const buffer of message.buffers) {\n            buffers.push(buffer);\n            downloaded += buffer.byteLength;\n            progress.value = downloaded;\n          }\n        }\n      }\n      const blob = new Blob(buffers, {type: 'application/binary'});\n      const a = document.createElement('a');\n      a.href = window.URL.createObjectURL(blob);\n      a.download = filename;\n      div.appendChild(a);\n      a.click();\n      div.remove();\n    }\n  "
          },
          "metadata": {}
        },
        {
          "output_type": "display_data",
          "data": {
            "text/plain": [
              "<IPython.core.display.Javascript object>"
            ],
            "application/javascript": "download(\"download_ed31a1cc-4b51-470a-be2b-27552ec87cb0\", \"results_fire-dataset-outdoor-d2n_aug-none.zip\", 921388)"
          },
          "metadata": {}
        }
      ],
      "metadata": {
        "colab": {
          "base_uri": "https://localhost:8080/",
          "height": 71
        },
        "id": "MpWh5PKQ68BE",
        "outputId": "ecea4e90-a730-4724-a667-0ef1f21d3521"
      }
    },
    {
      "cell_type": "markdown",
      "source": [
        "## آموزش مدل بر روی داده های آموزشی و روز به شب شده به همراه داده‌افزایی از نوع تغییرمقیاس و برش\r\n",
        "\r\n",
        "Aug-D2N-Scale"
      ],
      "metadata": {
        "id": "T95WpxnU7IaO"
      }
    },
    {
      "cell_type": "code",
      "execution_count": 30,
      "source": [
        "%%time\r\n",
        "ds_name = \"fire-dataset-outdoor-d2n\"\r\n",
        "# آموزش مدل حدود ۴۰ دقیقه طول خواهد کشید. \r\n",
        "from imageai.Detection.Custom import DetectionModelTrainer\r\n",
        "aug = 'scale'\r\n",
        "trainer = DetectionModelTrainer()\r\n",
        "trainer.setModelTypeAsYOLOv3()\r\n",
        "trainer.setDataDirectory(data_directory=\"datasets/\"+ds_name, augmentation = aug)\r\n",
        "trainer.setTrainConfig(object_names_array=[\"fire\"], batch_size=8, num_experiments=10,\\\r\n",
        "                       augmentation = aug,\\\r\n",
        "                       train_from_pretrained_model=\"pretrained-yolov3.h5\")\r\n",
        "trainer.trainModel()\r\n",
        "!ls ./datasets/fire-dataset-outdoor-d2n_aug-scale/models/"
      ],
      "outputs": [
        {
          "output_type": "stream",
          "name": "stdout",
          "text": [
            "Generating anchor boxes for training images and annotation...\n",
            "Average IOU for 9 anchors: 0.78\n",
            "Anchor Boxes generated.\n",
            "Detection configuration saved in  datasets/fire-dataset-outdoor-d2n_aug-scale/json/detection_config.json\n",
            "Evaluating over 60 samples taken from datasets/fire-dataset-outdoor-d2n/validation\n",
            "Training over 390 samples  given at datasets/fire-dataset-outdoor-d2n/train\n",
            "Training on: \t['fire']\n",
            "Training with Batch Size:  8\n",
            "Number of Training Samples:  390\n",
            "Number of Validation Samples:  60\n",
            "Number of Experiments:  10\n",
            "Training with transfer learning from pretrained Model\n",
            "WARNING:tensorflow:`period` argument is deprecated. Please use `save_freq` to specify the frequency in number of batches seen.\n",
            "WARNING:tensorflow:`epsilon` argument is deprecated and will be removed, use `min_delta` instead.\n"
          ]
        },
        {
          "output_type": "stream",
          "name": "stderr",
          "text": [
            "/usr/local/lib/python3.7/dist-packages/keras/optimizer_v2/optimizer_v2.py:356: UserWarning: The `lr` argument is deprecated, use `learning_rate` instead.\n",
            "  \"The `lr` argument is deprecated, use `learning_rate` instead.\")\n"
          ]
        },
        {
          "output_type": "stream",
          "name": "stdout",
          "text": [
            "WARNING:tensorflow:Model failed to serialize as JSON. Ignoring... Layer YoloLayer has arguments in `__init__` and therefore must override `get_config`.\n"
          ]
        },
        {
          "output_type": "stream",
          "name": "stderr",
          "text": [
            "/usr/local/lib/python3.7/dist-packages/keras/engine/training.py:1972: UserWarning: `Model.fit_generator` is deprecated and will be removed in a future version. Please use `Model.fit`, which supports generators.\n",
            "  warnings.warn('`Model.fit_generator` is deprecated and '\n",
            "/usr/local/lib/python3.7/dist-packages/tensorflow/python/data/ops/dataset_ops.py:4212: UserWarning: Even though the `tf.config.experimental_run_functions_eagerly` option is set, this option does not apply to tf.data functions. To force eager execution of tf.data functions, please use `tf.data.experimental.enable_debug_mode()`.\n",
            "  \"Even though the `tf.config.experimental_run_functions_eagerly` \"\n",
            "/usr/local/lib/python3.7/dist-packages/keras/utils/generic_utils.py:497: CustomMaskWarning: Custom mask layers require a config and must override get_config. When loading, the custom mask layer must be passed to the custom_objects argument.\n",
            "  category=CustomMaskWarning)\n"
          ]
        },
        {
          "output_type": "stream",
          "name": "stdout",
          "text": [
            "Epoch 1/10\n",
            "392/392 [==============================] - 293s 746ms/step - loss: 58.2517 - yolo_layer_9_loss: 10.1700 - yolo_layer_10_loss: 14.3963 - yolo_layer_11_loss: 22.1551 - val_loss: 39.5103 - val_yolo_layer_9_loss: 7.6245 - val_yolo_layer_10_loss: 10.0643 - val_yolo_layer_11_loss: 10.4552\n",
            "WARNING:tensorflow:Compiled the loaded model, but the compiled metrics have yet to be built. `model.compile_metrics` will be empty until you train or evaluate the model.\n",
            "Epoch 2/10\n",
            "392/392 [==============================] - 279s 711ms/step - loss: 31.1383 - yolo_layer_9_loss: 5.0795 - yolo_layer_10_loss: 6.8651 - yolo_layer_11_loss: 8.1720 - val_loss: 32.3848 - val_yolo_layer_9_loss: 5.6823 - val_yolo_layer_10_loss: 7.9004 - val_yolo_layer_11_loss: 8.1402\n",
            "WARNING:tensorflow:Compiled the loaded model, but the compiled metrics have yet to be built. `model.compile_metrics` will be empty until you train or evaluate the model.\n",
            "Epoch 3/10\n",
            "392/392 [==============================] - 283s 721ms/step - loss: 28.1598 - yolo_layer_9_loss: 4.4683 - yolo_layer_10_loss: 6.1259 - yolo_layer_11_loss: 7.2114 - val_loss: 30.3446 - val_yolo_layer_9_loss: 5.1052 - val_yolo_layer_10_loss: 6.9903 - val_yolo_layer_11_loss: 8.1963\n",
            "WARNING:tensorflow:Compiled the loaded model, but the compiled metrics have yet to be built. `model.compile_metrics` will be empty until you train or evaluate the model.\n",
            "Epoch 4/10\n",
            "392/392 [==============================] - 277s 706ms/step - loss: 26.2374 - yolo_layer_9_loss: 4.0964 - yolo_layer_10_loss: 5.7131 - yolo_layer_11_loss: 6.6714 - val_loss: 29.2248 - val_yolo_layer_9_loss: 4.8578 - val_yolo_layer_10_loss: 6.9065 - val_yolo_layer_11_loss: 7.9884\n",
            "WARNING:tensorflow:Compiled the loaded model, but the compiled metrics have yet to be built. `model.compile_metrics` will be empty until you train or evaluate the model.\n",
            "Epoch 5/10\n",
            "392/392 [==============================] - 273s 697ms/step - loss: 24.4554 - yolo_layer_9_loss: 3.6089 - yolo_layer_10_loss: 5.2959 - yolo_layer_11_loss: 6.3174 - val_loss: 31.2561 - val_yolo_layer_9_loss: 5.4896 - val_yolo_layer_10_loss: 7.8073 - val_yolo_layer_11_loss: 8.9669\n",
            "WARNING:tensorflow:Compiled the loaded model, but the compiled metrics have yet to be built. `model.compile_metrics` will be empty until you train or evaluate the model.\n",
            "Epoch 6/10\n",
            "392/392 [==============================] - 286s 730ms/step - loss: 23.4093 - yolo_layer_9_loss: 3.6315 - yolo_layer_10_loss: 5.2216 - yolo_layer_11_loss: 5.7521 - val_loss: 27.9443 - val_yolo_layer_9_loss: 5.0751 - val_yolo_layer_10_loss: 6.8753 - val_yolo_layer_11_loss: 7.3473\n",
            "WARNING:tensorflow:Compiled the loaded model, but the compiled metrics have yet to be built. `model.compile_metrics` will be empty until you train or evaluate the model.\n",
            "Epoch 7/10\n",
            "392/392 [==============================] - 272s 694ms/step - loss: 22.2541 - yolo_layer_9_loss: 3.3779 - yolo_layer_10_loss: 4.7727 - yolo_layer_11_loss: 5.6491 - val_loss: 28.4989 - val_yolo_layer_9_loss: 5.5026 - val_yolo_layer_10_loss: 6.7093 - val_yolo_layer_11_loss: 8.0019\n",
            "WARNING:tensorflow:Compiled the loaded model, but the compiled metrics have yet to be built. `model.compile_metrics` will be empty until you train or evaluate the model.\n",
            "Epoch 8/10\n",
            "392/392 [==============================] - 277s 706ms/step - loss: 21.5547 - yolo_layer_9_loss: 3.3101 - yolo_layer_10_loss: 4.6309 - yolo_layer_11_loss: 5.4761 - val_loss: 29.5239 - val_yolo_layer_9_loss: 4.6866 - val_yolo_layer_10_loss: 7.3128 - val_yolo_layer_11_loss: 9.5270\n",
            "WARNING:tensorflow:Compiled the loaded model, but the compiled metrics have yet to be built. `model.compile_metrics` will be empty until you train or evaluate the model.\n",
            "Epoch 9/10\n",
            "392/392 [==============================] - 263s 669ms/step - loss: 20.1930 - yolo_layer_9_loss: 2.8662 - yolo_layer_10_loss: 4.3074 - yolo_layer_11_loss: 5.1572 - val_loss: 27.6185 - val_yolo_layer_9_loss: 4.2518 - val_yolo_layer_10_loss: 6.3586 - val_yolo_layer_11_loss: 9.2687\n",
            "WARNING:tensorflow:Compiled the loaded model, but the compiled metrics have yet to be built. `model.compile_metrics` will be empty until you train or evaluate the model.\n",
            "Epoch 10/10\n",
            "392/392 [==============================] - 275s 701ms/step - loss: 19.6324 - yolo_layer_9_loss: 2.9436 - yolo_layer_10_loss: 4.1131 - yolo_layer_11_loss: 4.9386 - val_loss: 27.2665 - val_yolo_layer_9_loss: 4.2972 - val_yolo_layer_10_loss: 6.7766 - val_yolo_layer_11_loss: 8.6570\n",
            "WARNING:tensorflow:Compiled the loaded model, but the compiled metrics have yet to be built. `model.compile_metrics` will be empty until you train or evaluate the model.\n",
            "detection_model-ex-001--loss-0058.252.h5\n",
            "detection_model-ex-002--loss-0031.138.h5\n",
            "detection_model-ex-003--loss-0028.160.h5\n",
            "detection_model-ex-004--loss-0026.237.h5\n",
            "detection_model-ex-005--loss-0024.455.h5\n",
            "detection_model-ex-006--loss-0023.409.h5\n",
            "detection_model-ex-007--loss-0022.254.h5\n",
            "detection_model-ex-008--loss-0021.555.h5\n",
            "detection_model-ex-009--loss-0020.193.h5\n",
            "detection_model-ex-010--loss-0019.632.h5\n",
            "CPU times: user 38min 46s, sys: 7min 21s, total: 46min 7s\n",
            "Wall time: 46min 30s\n"
          ]
        }
      ],
      "metadata": {
        "colab": {
          "base_uri": "https://localhost:8080/"
        },
        "id": "3vYE8IYD3JfW",
        "outputId": "a2640785-13a6-4d16-cf27-122a1378128c"
      }
    },
    {
      "cell_type": "code",
      "execution_count": 31,
      "source": [
        "!ls datasets/fire-dataset-outdoor-d2n_aug-scale/models"
      ],
      "outputs": [
        {
          "output_type": "stream",
          "name": "stdout",
          "text": [
            "detection_model-ex-001--loss-0058.252.h5\n",
            "detection_model-ex-002--loss-0031.138.h5\n",
            "detection_model-ex-003--loss-0028.160.h5\n",
            "detection_model-ex-004--loss-0026.237.h5\n",
            "detection_model-ex-005--loss-0024.455.h5\n",
            "detection_model-ex-006--loss-0023.409.h5\n",
            "detection_model-ex-007--loss-0022.254.h5\n",
            "detection_model-ex-008--loss-0021.555.h5\n",
            "detection_model-ex-009--loss-0020.193.h5\n",
            "detection_model-ex-010--loss-0019.632.h5\n"
          ]
        }
      ],
      "metadata": {
        "colab": {
          "base_uri": "https://localhost:8080/"
        },
        "id": "gaC3iO9R3Lej",
        "outputId": "b4595bfb-63a1-40ec-e495-dba68b21fae8"
      }
    },
    {
      "cell_type": "code",
      "execution_count": 43,
      "source": [
        "# !cp datasets/fire-dataset-outdoor-d2n_aug-scale/models/detection_model-ex-010--loss-0019.632.h5 '/content/gdrive/My Drive/models/fire-scale/outdoor-d2n/scale/'\r\n",
        "# !cp datasets/fire-dataset-outdoor-d2n_aug-scale/json/detection_config.json '/content/gdrive/My Drive/models/fire-scale/outdoor-d2n/scale/'"
      ],
      "outputs": [],
      "metadata": {
        "id": "gqhX-azz_Abf"
      }
    },
    {
      "cell_type": "code",
      "execution_count": 32,
      "source": [
        "%%time\r\n",
        "# ارزیابی بهترین مدل بالا\r\n",
        "# ذکر شود model_path نام بهترین مدل بالا باید در \r\n",
        "\r\n",
        "from imageai.Detection.Custom import DetectionModelTrainer\r\n",
        "\r\n",
        "trainer = DetectionModelTrainer()\r\n",
        "trainer.setModelTypeAsYOLOv3()\r\n",
        "trainer.setDataDirectory(data_directory=\"./datasets/\"+ds_name)\r\n",
        "metrics = trainer.evaluateModel(model_path=\"./datasets/\"+ds_name+\"_aug-scale/models/detection_model-ex-010--loss-0019.632.h5\",\\\r\n",
        "                                json_path=\"./datasets/\"+ds_name+\"_aug-scale/json/detection_config.json\",\\\r\n",
        "                                iou_threshold=0.2,\\\r\n",
        "                                object_threshold=0.3, nms_threshold=0.3)"
      ],
      "outputs": [
        {
          "output_type": "stream",
          "name": "stdout",
          "text": [
            "Starting Model evaluation....\n",
            "Evaluating over 60 samples taken from ./datasets/fire-dataset-outdoor-d2n/validation\n",
            "Training over 390 samples  given at ./datasets/fire-dataset-outdoor-d2n/train\n",
            "WARNING:tensorflow:No training configuration found in the save file, so the model was *not* compiled. Compile it manually.\n",
            "Model File:  ./datasets/fire-dataset-outdoor-d2n_aug-scale/models/detection_model-ex-010--loss-0019.632.h5 \n",
            "\n",
            "Evaluation samples:  60\n",
            "Using IoU:  0.2\n",
            "Using Object Threshold:  0.3\n",
            "Using Non-Maximum Suppression:  0.3\n",
            "fire: 0.7271\n",
            "mAP: 0.7271\n",
            "===============================\n",
            "CPU times: user 7.43 s, sys: 187 ms, total: 7.61 s\n",
            "Wall time: 7.47 s\n"
          ]
        }
      ],
      "metadata": {
        "colab": {
          "base_uri": "https://localhost:8080/"
        },
        "id": "tnw3RZDH3Jkg",
        "outputId": "19dd95c6-0b1f-40c2-812c-a6a7fe433df9"
      }
    },
    {
      "cell_type": "code",
      "execution_count": 35,
      "source": [
        "#  با دستورات زیر می‌توان مدل را روی تصاویر موجود در پوشه \r\n",
        "# path\r\n",
        "# اجرا کرد. \r\n",
        "#  نام مدل را باید اصلاح کنید.\r\n",
        "from PIL import Image\r\n",
        "import os, sys\r\n",
        "from imageai.Detection.Custom import CustomObjectDetection\r\n",
        "\r\n",
        "ds_name = \"fire-dataset-outdoor-d2n\"\r\n",
        "\r\n",
        "path = \"./datasets/\"+ds_name+\"/validation/images/\"\r\n",
        "dirs = os.listdir( path )\r\n",
        "# print(dirs)\r\n",
        "out_path = \"./results_\"+ds_name+\"_aug-scale\"\r\n",
        "os.mkdir(out_path)\r\n",
        "\r\n",
        "detector = CustomObjectDetection()\r\n",
        "detector.setModelTypeAsYOLOv3()\r\n",
        "detector.setModelPath(\"./datasets/\"+ds_name+\"_aug-scale/models/detection_model-ex-010--loss-0019.632.h5\")\r\n",
        "detector.setJsonPath(\"./datasets/\"+ds_name+\"_aug-scale/json/detection_config.json\")\r\n",
        "detector.loadModel()\r\n",
        "\r\n",
        "for item in dirs:\r\n",
        "    if os.path.isfile(path+item):\r\n",
        "        in_im = path+item\r\n",
        "        out_im = out_path+\"/\"+item\r\n",
        "        detections = detector.detectObjectsFromImage(input_image=in_im, output_image_path=out_im)\r\n",
        "\r\n",
        "# بعد از اجرای کد بالا، تصاویر در پوشه\r\n",
        "# results_fire-dataset-outdoor-d2n_aug-scale\r\n",
        "# قرار داده می‌شوند که می‌توان دانلود نمود\r\n",
        "# !zip -r -q results_fire-dataset-outdoor-d2n_aug-scale.zip results_fire-dataset-outdoor-d2n_aug-scale/\r\n",
        "# files.download('results_fire-dataset-outdoor-d2n_aug-scale.zip')"
      ],
      "outputs": [
        {
          "output_type": "stream",
          "name": "stderr",
          "text": [
            "/usr/local/lib/python3.7/dist-packages/tensorflow/python/data/ops/dataset_ops.py:4212: UserWarning: Even though the `tf.config.experimental_run_functions_eagerly` option is set, this option does not apply to tf.data functions. To force eager execution of tf.data functions, please use `tf.data.experimental.enable_debug_mode()`.\n",
            "  \"Even though the `tf.config.experimental_run_functions_eagerly` \"\n"
          ]
        },
        {
          "output_type": "display_data",
          "data": {
            "text/plain": [
              "<IPython.core.display.Javascript object>"
            ],
            "application/javascript": "\n    async function download(id, filename, size) {\n      if (!google.colab.kernel.accessAllowed) {\n        return;\n      }\n      const div = document.createElement('div');\n      const label = document.createElement('label');\n      label.textContent = `Downloading \"${filename}\": `;\n      div.appendChild(label);\n      const progress = document.createElement('progress');\n      progress.max = size;\n      div.appendChild(progress);\n      document.body.appendChild(div);\n\n      const buffers = [];\n      let downloaded = 0;\n\n      const channel = await google.colab.kernel.comms.open(id);\n      // Send a message to notify the kernel that we're ready.\n      channel.send({})\n\n      for await (const message of channel.messages) {\n        // Send a message to notify the kernel that we're ready.\n        channel.send({})\n        if (message.buffers) {\n          for (const buffer of message.buffers) {\n            buffers.push(buffer);\n            downloaded += buffer.byteLength;\n            progress.value = downloaded;\n          }\n        }\n      }\n      const blob = new Blob(buffers, {type: 'application/binary'});\n      const a = document.createElement('a');\n      a.href = window.URL.createObjectURL(blob);\n      a.download = filename;\n      div.appendChild(a);\n      a.click();\n      div.remove();\n    }\n  "
          },
          "metadata": {}
        },
        {
          "output_type": "display_data",
          "data": {
            "text/plain": [
              "<IPython.core.display.Javascript object>"
            ],
            "application/javascript": "download(\"download_ff3e3338-e620-46a0-a2bf-51e3d5006b7c\", \"results_fire-dataset-outdoor-d2n_aug-scale.zip\", 971623)"
          },
          "metadata": {}
        }
      ],
      "metadata": {
        "colab": {
          "base_uri": "https://localhost:8080/",
          "height": 71
        },
        "id": "6H9EGvqrQckH",
        "outputId": "b7bee4de-473d-4336-c865-3629370ae587"
      }
    },
    {
      "cell_type": "code",
      "execution_count": 44,
      "source": [
        "if hasattr(time, 'tzset'):\r\n",
        "    os.environ['TZ'] = 'Asia/Tehran'\r\n",
        "    time.tzset()\r\n",
        "print(time.strftime('%X'))"
      ],
      "outputs": [
        {
          "output_type": "stream",
          "name": "stdout",
          "text": [
            "09:28:24\n"
          ]
        }
      ],
      "metadata": {
        "colab": {
          "base_uri": "https://localhost:8080/"
        },
        "id": "keJHhKS9UVRC",
        "outputId": "7d48315d-833e-4175-c16e-da5168cb4ece"
      }
    },
    {
      "cell_type": "code",
      "execution_count": 45,
      "source": [
        "!cat /proc/cpuinfo"
      ],
      "outputs": [
        {
          "output_type": "stream",
          "name": "stdout",
          "text": [
            "processor\t: 0\n",
            "vendor_id\t: GenuineIntel\n",
            "cpu family\t: 6\n",
            "model\t\t: 79\n",
            "model name\t: Intel(R) Xeon(R) CPU @ 2.20GHz\n",
            "stepping\t: 0\n",
            "microcode\t: 0x1\n",
            "cpu MHz\t\t: 2199.998\n",
            "cache size\t: 56320 KB\n",
            "physical id\t: 0\n",
            "siblings\t: 2\n",
            "core id\t\t: 0\n",
            "cpu cores\t: 1\n",
            "apicid\t\t: 0\n",
            "initial apicid\t: 0\n",
            "fpu\t\t: yes\n",
            "fpu_exception\t: yes\n",
            "cpuid level\t: 13\n",
            "wp\t\t: yes\n",
            "flags\t\t: fpu vme de pse tsc msr pae mce cx8 apic sep mtrr pge mca cmov pat pse36 clflush mmx fxsr sse sse2 ss ht syscall nx pdpe1gb rdtscp lm constant_tsc rep_good nopl xtopology nonstop_tsc cpuid tsc_known_freq pni pclmulqdq ssse3 fma cx16 pcid sse4_1 sse4_2 x2apic movbe popcnt aes xsave avx f16c rdrand hypervisor lahf_lm abm 3dnowprefetch invpcid_single ssbd ibrs ibpb stibp fsgsbase tsc_adjust bmi1 hle avx2 smep bmi2 erms invpcid rtm rdseed adx smap xsaveopt arat md_clear arch_capabilities\n",
            "bugs\t\t: cpu_meltdown spectre_v1 spectre_v2 spec_store_bypass l1tf mds swapgs taa\n",
            "bogomips\t: 4399.99\n",
            "clflush size\t: 64\n",
            "cache_alignment\t: 64\n",
            "address sizes\t: 46 bits physical, 48 bits virtual\n",
            "power management:\n",
            "\n",
            "processor\t: 1\n",
            "vendor_id\t: GenuineIntel\n",
            "cpu family\t: 6\n",
            "model\t\t: 79\n",
            "model name\t: Intel(R) Xeon(R) CPU @ 2.20GHz\n",
            "stepping\t: 0\n",
            "microcode\t: 0x1\n",
            "cpu MHz\t\t: 2199.998\n",
            "cache size\t: 56320 KB\n",
            "physical id\t: 0\n",
            "siblings\t: 2\n",
            "core id\t\t: 0\n",
            "cpu cores\t: 1\n",
            "apicid\t\t: 1\n",
            "initial apicid\t: 1\n",
            "fpu\t\t: yes\n",
            "fpu_exception\t: yes\n",
            "cpuid level\t: 13\n",
            "wp\t\t: yes\n",
            "flags\t\t: fpu vme de pse tsc msr pae mce cx8 apic sep mtrr pge mca cmov pat pse36 clflush mmx fxsr sse sse2 ss ht syscall nx pdpe1gb rdtscp lm constant_tsc rep_good nopl xtopology nonstop_tsc cpuid tsc_known_freq pni pclmulqdq ssse3 fma cx16 pcid sse4_1 sse4_2 x2apic movbe popcnt aes xsave avx f16c rdrand hypervisor lahf_lm abm 3dnowprefetch invpcid_single ssbd ibrs ibpb stibp fsgsbase tsc_adjust bmi1 hle avx2 smep bmi2 erms invpcid rtm rdseed adx smap xsaveopt arat md_clear arch_capabilities\n",
            "bugs\t\t: cpu_meltdown spectre_v1 spectre_v2 spec_store_bypass l1tf mds swapgs taa\n",
            "bogomips\t: 4399.99\n",
            "clflush size\t: 64\n",
            "cache_alignment\t: 64\n",
            "address sizes\t: 46 bits physical, 48 bits virtual\n",
            "power management:\n",
            "\n"
          ]
        }
      ],
      "metadata": {
        "id": "I6PzEjuu3Lzb",
        "colab": {
          "base_uri": "https://localhost:8080/"
        },
        "outputId": "1f14955f-64ef-4eae-a999-50371190eea8"
      }
    },
    {
      "cell_type": "code",
      "execution_count": 46,
      "source": [
        "!nvidia-smi"
      ],
      "outputs": [
        {
          "output_type": "stream",
          "name": "stdout",
          "text": [
            "Sun Aug 22 09:28:27 2021       \n",
            "+-----------------------------------------------------------------------------+\n",
            "| NVIDIA-SMI 470.57.02    Driver Version: 460.32.03    CUDA Version: 11.2     |\n",
            "|-------------------------------+----------------------+----------------------+\n",
            "| GPU  Name        Persistence-M| Bus-Id        Disp.A | Volatile Uncorr. ECC |\n",
            "| Fan  Temp  Perf  Pwr:Usage/Cap|         Memory-Usage | GPU-Util  Compute M. |\n",
            "|                               |                      |               MIG M. |\n",
            "|===============================+======================+======================|\n",
            "|   0  Tesla T4            Off  | 00000000:00:04.0 Off |                    0 |\n",
            "| N/A   77C    P0    34W /  70W |  14570MiB / 15109MiB |      0%      Default |\n",
            "|                               |                      |                  N/A |\n",
            "+-------------------------------+----------------------+----------------------+\n",
            "                                                                               \n",
            "+-----------------------------------------------------------------------------+\n",
            "| Processes:                                                                  |\n",
            "|  GPU   GI   CI        PID   Type   Process name                  GPU Memory |\n",
            "|        ID   ID                                                   Usage      |\n",
            "|=============================================================================|\n",
            "|  No running processes found                                                 |\n",
            "+-----------------------------------------------------------------------------+\n"
          ]
        }
      ],
      "metadata": {
        "id": "cKalU4nQBZgF",
        "colab": {
          "base_uri": "https://localhost:8080/"
        },
        "outputId": "417030c7-c659-445c-f49f-29b470159e5e"
      }
    },
    {
      "cell_type": "code",
      "execution_count": null,
      "source": [],
      "outputs": [],
      "metadata": {
        "id": "CVw3qwBLT5pn"
      }
    }
  ]
}